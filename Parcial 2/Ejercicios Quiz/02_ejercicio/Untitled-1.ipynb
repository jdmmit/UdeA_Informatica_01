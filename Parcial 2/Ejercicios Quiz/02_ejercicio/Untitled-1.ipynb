{
 "cells": [
  {
   "cell_type": "code",
   "execution_count": null,
   "id": "a8bfdeb2",
   "metadata": {},
   "outputs": [],
   "source": [
    "pip install kaggle --quiet\n",
    "export KAGGLE_USERNAME=\"<tu_usuario>\"\n",
    "export KAGGLE_KEY=\"<tu_api_key>\"\n",
    "kaggle competitions download -c m5-forecasting-accuracy -p data/\n",
    "unzip data/m5*.zip -d data/m5"
   ]
  }
 ],
 "metadata": {
  "language_info": {
   "name": "python"
  }
 },
 "nbformat": 4,
 "nbformat_minor": 5
}
